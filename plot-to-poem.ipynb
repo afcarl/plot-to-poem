{
 "cells": [
  {
   "cell_type": "markdown",
   "metadata": {},
   "source": [
    "# Plot To Poem\n",
    "\n",
    "By [Allison Parrish](http://www.decontextualize.com/) for [NaPoGenMo 2017](https://github.com/NaPoGenMo/NaPoGenMo2017).\n",
    "\n",
    "This notebook implements a system for \"translating\" plots from [Mark Riedl's WikiPlots corpus](https://github.com/markriedl/WikiPlots) into poems, using semantic similarity to lines of poetry in my [Gutenberg Poetry corpus](https://s3.amazonaws.com/aparrish/poetry.json-stream.gz). If you want to execute the code in this notebook, make sure to download these files first! (The code assumes that you've extracted the WikiPlots corpus, leaving two files in the same directory as the notebook: `titles` and `plots`. You don't need to extract the poetry corpus, as the code operates directly on the compressed file.)"
   ]
  },
  {
   "cell_type": "code",
   "execution_count": 1,
   "metadata": {
    "collapsed": true
   },
   "outputs": [],
   "source": [
    "import random\n",
    "import sys\n",
    "import textwrap"
   ]
  },
  {
   "cell_type": "markdown",
   "metadata": {},
   "source": [
    "## Working with the data\n",
    "\n",
    "The `plotutils` and `poemutils` modules, included in this repository, have a few utility functions for working with the WikiPlots corpus at the Gutenberg Poetry corpus (respectively). I'm using [Annoy](https://pypi.python.org/pypi/annoy) for nearest-neighbor search and [spaCy](https://spacy.io/) for its sentence parsing and built-in word vectors."
   ]
  },
  {
   "cell_type": "code",
   "execution_count": 2,
   "metadata": {
    "collapsed": true
   },
   "outputs": [],
   "source": [
    "import plotutils\n",
    "import poemutils\n",
    "\n",
    "import spacy\n",
    "from annoy import AnnoyIndex\n",
    "import numpy as np"
   ]
  },
  {
   "cell_type": "code",
   "execution_count": 4,
   "metadata": {
    "collapsed": false
   },
   "outputs": [],
   "source": [
    "nlp = spacy.load('en')"
   ]
  },
  {
   "cell_type": "markdown",
   "metadata": {},
   "source": [
    "Titles and plots are loaded into lists with corresponding indices..."
   ]
  },
  {
   "cell_type": "code",
   "execution_count": 5,
   "metadata": {
    "collapsed": true
   },
   "outputs": [],
   "source": [
    "titles = plotutils.titleindex()\n",
    "plots = plotutils.loadplots()\n",
    "assert(len(titles) == len(plots))"
   ]
  },
  {
   "cell_type": "markdown",
   "metadata": {},
   "source": [
    "The `pickrandom` function returns a tuple with the index, title and sentences from a randomly-selected plot."
   ]
  },
  {
   "cell_type": "code",
   "execution_count": 6,
   "metadata": {
    "collapsed": true
   },
   "outputs": [],
   "source": [
    "def getplot(idx):\n",
    "    return idx, titles[idx], plots[idx]\n",
    "def pickrandom(titles, plots):\n",
    "    idx = random.randrange(len(titles))\n",
    "    return getplot(random.randrange(len(titles)))"
   ]
  },
  {
   "cell_type": "code",
   "execution_count": 7,
   "metadata": {
    "collapsed": false
   },
   "outputs": [
    {
     "data": {
      "text/plain": [
       "(22371,\n",
       " 'Love Is All There Is',\n",
       " \"\\nLove Is All There Is is a modern retelling of the Romeo and Juliet story\\nIt is set in the Bronx during the 1990s\\nThe Cappamezzas (Lainie Kazan and Joseph Bologna), Bronx-born Sicilians, own a local catering business\\nThey develop a bitter rivalry with the pretentious Malacicis (Paul Sorvino and Barbara Carrera), recent immigrants from Florence and owners of a fine Italian restaurant\\nThe Cappamezzas' son, Rosario, (Nathaniel Marston) falls in love with the Malacicis' daughter, Gina, (Angelina Jolie) after she replaces the obese star of the neighborhood church's staging of Romeo and Juliet\\nThe rivalry intensifies after Rosario deflowers Gina after a fight with her parents\\nThe movie was filmed at Greentree Country Club in New Rochelle, NY and many scenes were shot in City Island, Bronx, New York\\n\")"
      ]
     },
     "execution_count": 7,
     "metadata": {},
     "output_type": "execute_result"
    }
   ],
   "source": [
    "pickrandom(titles, plots)"
   ]
  },
  {
   "cell_type": "code",
   "execution_count": 8,
   "metadata": {
    "collapsed": false
   },
   "outputs": [
    {
     "data": {
      "text/plain": [
       "11432"
      ]
     },
     "execution_count": 8,
     "metadata": {},
     "output_type": "execute_result"
    }
   ],
   "source": [
    "title2idx = dict([(t, i) for i, t in enumerate(titles)])\n",
    "title2idx[\"New Super Mario Bros.\"]"
   ]
  },
  {
   "cell_type": "markdown",
   "metadata": {},
   "source": [
    "Testing it all out:"
   ]
  },
  {
   "cell_type": "code",
   "execution_count": 9,
   "metadata": {
    "collapsed": false
   },
   "outputs": [
    {
     "data": {
      "text/plain": [
       "(11432,\n",
       " 'New Super Mario Bros.',\n",
       " \"\\nAt the beginning of the game, Princess Peach and Mario are walking together when lightning suddenly strikes Peach's castle nearby\\nAs Mario runs to help, Bowser Jr\\nappears and kidnaps her\\nRealizing what has happened, Mario quickly rushes back and gives chase\\nMario ventures through eight worlds pursuing Bowser Jr\\nand trying to rescue the kidnapped princess\\nMario catches up to them and confronts Bowser Jr\\noccasionally, but is unable to save the princess from the young Koopa's clutches\\nAt the end of the first world, Bowser Jr\\nretreats to a castle, where his father, Bowser, awaits Mario on a bridge over a pit filled with lava\\nIn a scene highly reminiscent of the original Super Mario Bros\\n, Mario activates a button behind Bowser to defeat him, and the bridge underneath Bowser collapses, causing him to fall into the lava which burns his flesh, leaving a skeleton\\nDespite Bowser's demise in the first level, this does not stop Bowser Jr\\nfrom running through the remaining worlds with Peach in tow, forcing Mario to chase after him before reaching Bowser's castle in world 8\\nThere, Bowser Jr\\nrevives his father's skeleton, creating Dry Bowser, but Mario once again defeats Bowser by dropping him into a deep pit\\nIn the final battle, Bowser Jr\\nflees once more across a lava chasm to a larger castle, where he throws his father's bones into a cauldron and revives Bowser in a more powerful form\\nThey attack Mario in tandem, but Mario drops the pair into the pit below\\nIn the game's final sequence, Mario rescues Peach, who kisses him on the cheek\\nOver the end credits, Bowser Jr\\nis seen dragging his unconscious father across the floor\\nHe looks at the screen, and growls, breaking the fourth wall\\n\")"
      ]
     },
     "execution_count": 9,
     "metadata": {},
     "output_type": "execute_result"
    }
   ],
   "source": [
    "getplot(title2idx[\"New Super Mario Bros.\"])"
   ]
  },
  {
   "cell_type": "markdown",
   "metadata": {},
   "source": [
    "## Building an index of vectors for lines of poetry\n",
    "\n",
    "To compare the \"meaning\" of two stretches of text, we need a number (or series of numbers) to be the basis of the comparison. In this case, I'm using the average of the word vectors in the sentence, for words that match particular parts of speech. (I don't have any hard data to back this up, but just using the word vectors for particular parts of speech yields slightly better/interesting results to my eye, for the purposes of this project at least)"
   ]
  },
  {
   "cell_type": "code",
   "execution_count": 10,
   "metadata": {
    "collapsed": false,
    "scrolled": true
   },
   "outputs": [
    {
     "data": {
      "text/plain": [
       "(300,)"
      ]
     },
     "execution_count": 10,
     "metadata": {},
     "output_type": "execute_result"
    }
   ],
   "source": [
    "def meanvector(text):\n",
    "    s = nlp(text)\n",
    "    vecs = [word.vector for word in s \\\n",
    "            if word.pos_ in ('NOUN', 'VERB', 'ADJ', 'ADV', 'PROPN', 'ADP') \\\n",
    "            and np.any(word.vector)] # skip all-zero vectors\n",
    "    if len(vecs) == 0:\n",
    "        raise IndexError\n",
    "    else:\n",
    "        return np.array(vecs).mean(axis=0)\n",
    "meanvector(\"this is a test\").shape"
   ]
  },
  {
   "cell_type": "markdown",
   "metadata": {},
   "source": [
    "Now I create an Annoy index for fast nearest-neighbor lookup alongside a list of lines of poetry from the corpus. The `poemutils.loadlines()` function yields lines of poetry in turn from the poetry corpus; the `modulo` parameter allows you to load only only line of every *n*, instead of the entire corpus. (There are 3+ million lines in the corpus, which between the text and the vectors ends up being too much for my laptop's RAM. In practice, working with 5%-10% of the poetry corpus yields pretty good results.)"
   ]
  },
  {
   "cell_type": "code",
   "execution_count": 12,
   "metadata": {
    "collapsed": false
   },
   "outputs": [
    {
     "name": "stderr",
     "output_type": "stream",
     "text": [
      "0\n",
      "10000\n",
      "20000\n",
      "30000\n",
      "40000\n",
      "50000\n",
      "60000\n",
      "70000\n",
      "80000\n",
      "90000\n",
      "100000\n",
      "110000\n",
      "120000\n",
      "130000\n",
      "140000\n",
      "150000\n",
      "160000\n"
     ]
    }
   ],
   "source": [
    "t = AnnoyIndex(300, metric='angular')\n",
    "lines = list()\n",
    "i = 0\n",
    "for line in poemutils.loadlines(modulo=20):\n",
    "    if i % 10000 == 0:\n",
    "        sys.stderr.write(str(i) + \"\\n\")\n",
    "    try:\n",
    "        t.add_item(i, meanvector(line['line']))\n",
    "        lines.append(line)\n",
    "        i += 1\n",
    "    except IndexError:\n",
    "        continue"
   ]
  },
  {
   "cell_type": "code",
   "execution_count": 13,
   "metadata": {
    "collapsed": false,
    "scrolled": true
   },
   "outputs": [
    {
     "data": {
      "text/plain": [
       "True"
      ]
     },
     "execution_count": 13,
     "metadata": {},
     "output_type": "execute_result"
    }
   ],
   "source": [
    "t.build(25)"
   ]
  },
  {
   "cell_type": "markdown",
   "metadata": {},
   "source": [
    "The most common error I make when working with Annoy is accidentally messing up the indices so that there are fewer items in the index than lines in the corpus (or vice-versa), which (obviously) messes up index-based lookup. So just to make sure everything's okay:"
   ]
  },
  {
   "cell_type": "code",
   "execution_count": 14,
   "metadata": {
    "collapsed": true
   },
   "outputs": [],
   "source": [
    "assert(t.get_n_items() == len(lines))"
   ]
  },
  {
   "cell_type": "markdown",
   "metadata": {},
   "source": [
    "Now, test it out. The `.get_nns_by_vector()` method of the Annoy index returns a list of indices of nearest neighbors for a particular vector. I'm using this value to fetch the line of poetry from the poetry corpus:"
   ]
  },
  {
   "cell_type": "code",
   "execution_count": 22,
   "metadata": {
    "collapsed": false
   },
   "outputs": [
    {
     "name": "stdout",
     "output_type": "stream",
     "text": [
      "But the gold Moon is not shining,\n"
     ]
    }
   ],
   "source": [
    "nearest = t.get_nns_by_vector(meanvector(\"All that glitters is gold\"), n=10)[0]\n",
    "print(lines[nearest]['line'])"
   ]
  },
  {
   "cell_type": "markdown",
   "metadata": {},
   "source": [
    "## Matching plot sentences to lines of poetry\n",
    "\n",
    "In the cell below, I pick a random plot and iterate over each sentence in the plot, first finding the vector for the sentence and then finding the nearest neighbor in the Annoy index we just built for lines of poetry. For testing purposes, I'm displaying the sentence from the plot alongside the nearest neighboring line of poetry:"
   ]
  },
  {
   "cell_type": "code",
   "execution_count": 50,
   "metadata": {
    "collapsed": false,
    "scrolled": true
   },
   "outputs": [
    {
     "name": "stdout",
     "output_type": "stream",
     "text": [
      "Sweet Secret\n",
      "------------\n",
      "\n",
      "Han Ah-reum, the daughter of the Korean Vice-Minister for\n",
      "Culture, returns home with a child born out of wedlock, a\n",
      "fact that will shame her family and ruin the chances of her\n",
      "father becoming the Minister for Culture.\n",
      "\t For sake of a young Child whose home was there.\n",
      "\n",
      "Chun Sung-woon, heir of the Winner fashion and clothing\n",
      "company, is being backed into an arranged marriage that he\n",
      "does not want.\n",
      "\t That he's the kind of person that never does go back\n",
      "\n",
      "When the paths of the two cross and re-cross, initial\n",
      "hostility turns into love.\n",
      "\t That a light as of dawn should leap into your face,\n",
      "\n",
      "However, the secret of Ah-reum's illegitimate daughter may\n",
      "become a barrier to true love.\n",
      "\t That Love may still be lord of all!\n",
      "\n"
     ]
    }
   ],
   "source": [
    "idx, title, sentences = pickrandom(titles, plots)\n",
    "print(title)\n",
    "print('-' * len(title))\n",
    "print()\n",
    "for sent in sentences.split(\"\\n\"):\n",
    "    try:\n",
    "        vec = meanvector(sent)\n",
    "    except IndexError:\n",
    "        continue\n",
    "    match_idx = t.get_nns_by_vector(vec, n=100)[0]\n",
    "    print(textwrap.fill(sent+\".\", 60))\n",
    "    print(\"\\t\", lines[match_idx]['line'])\n",
    "    print()"
   ]
  },
  {
   "cell_type": "markdown",
   "metadata": {},
   "source": [
    "Looks like everything works! In the cell below, I write out an HTML file to show the results in a more pretty format."
   ]
  },
  {
   "cell_type": "code",
   "execution_count": 70,
   "metadata": {
    "collapsed": false,
    "scrolled": false
   },
   "outputs": [
    {
     "data": {
      "text/plain": [
       "117753"
      ]
     },
     "execution_count": 70,
     "metadata": {},
     "output_type": "execute_result"
    }
   ],
   "source": [
    "import html\n",
    "\n",
    "titles_to_try = [\n",
    "    \"Star Wars (film)\",\n",
    "    \"When Harry Met Sally...\",\n",
    "    \"House of Leaves\",\n",
    "    \"Shrek\",\n",
    "    \"The Hobbit\",\n",
    "    \"The Legend of Zelda: Ocarina of Time\",\n",
    "    \"The Handmaid's Tale\",\n",
    "    \"Ferris Bueller's Day Off\",\n",
    "    \"Star Trek II: The Wrath of Khan\",\n",
    "    \"Lost in Translation (film)\",\n",
    "    \"The Matrix\",\n",
    "    \"Doom (1993 video game)\",\n",
    "    \"Neuromancer\",\n",
    "    \"Top Gun\",\n",
    "    \"A Wrinkle in Time\",\n",
    "    \"The Wizard of Oz (1939 film)\"\n",
    "]\n",
    "\n",
    "html_tmpl = \"\"\"\n",
    "<!DOCTYPE html>\n",
    "<html lang=\"en\">\n",
    "<head>\n",
    "    <meta charset=\"utf-8\">\n",
    "    <title>Plot to Poem: Sample output</title>\n",
    "    <style type=\"text/css\">\n",
    "        .line {{\n",
    "            cursor: pointer;\n",
    "            font-family: serif;\n",
    "            font-size: 12pt;\n",
    "            line-height: 1.5em;\n",
    "        }}\n",
    "        .line:hover {{\n",
    "            background-color: #f8f8f8;\n",
    "        }}\n",
    "        body {{\n",
    "            margin: 2em auto;\n",
    "            width: 67%;\n",
    "            font-family: sans-serif;\n",
    "        }}\n",
    "        h2 {{\n",
    "            margin-top: 2em;\n",
    "            margin-bottom: 0.5em;\n",
    "        }}\n",
    "    </style>\n",
    "</head>\n",
    "\n",
    "<body>\n",
    "\n",
    "<h1>Plot to poem</h1>\n",
    "<p>By <a href=\"http://www.decontextualize.com/\">Allison Parrish</a>\n",
    "    for <a href=\"https://github.com/NaPoGenMo/NaPoGenMo2017\">NaPoGenMo 2017</a>.</p>\n",
    "<p>Each sentence from the Wikipedia plot summary of these\n",
    "    works has been replaced with the line of poetry from\n",
    "    Project Gutenberg that is closest in meaning. Mouse over\n",
    "    the line to see the original sentence from the plot\n",
    "    summary.</p>\n",
    "<p>Want to learn more about how it works, or try it out on\n",
    "    your own text?\n",
    "    <a href=\"https://github.com/aparrish/plot-to-poem/\">Python\n",
    "    source code available here.</a></p>\n",
    "\n",
    "{poems}\n",
    "\n",
    "</body>\n",
    "</html>\n",
    "\"\"\"\n",
    "\n",
    "output_html = \"\"\n",
    "for to_try in titles_to_try:\n",
    "    already_seen = set()\n",
    "    idx, title, sentences = getplot(title2idx[to_try])\n",
    "    output_html += \"\\n<h2>\"+title+\"</h2>\"\n",
    "    for sent in sentences.split(\"\\n\"):\n",
    "        try:\n",
    "            vec = meanvector(sent)\n",
    "        except IndexError:\n",
    "            continue\n",
    "        match_idx = [i for i in t.get_nns_by_vector(vec, n=100) if i not in already_seen][0]\n",
    "        already_seen.add(match_idx)\n",
    "        output_html += \"<div title='{orig}' class='line'>{line}</div>\\n\".format(\n",
    "            orig=html.escape(sent), line=lines[match_idx]['line'])\n",
    "open(\"plot-to-poem.html\", \"w\").write(html_tmpl.format(poems=output_html))"
   ]
  }
 ],
 "metadata": {
  "kernelspec": {
   "display_name": "Python 3",
   "language": "python",
   "name": "python3"
  },
  "language_info": {
   "codemirror_mode": {
    "name": "ipython",
    "version": 3
   },
   "file_extension": ".py",
   "mimetype": "text/x-python",
   "name": "python",
   "nbconvert_exporter": "python",
   "pygments_lexer": "ipython3",
   "version": "3.5.1"
  }
 },
 "nbformat": 4,
 "nbformat_minor": 2
}
